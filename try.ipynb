{
 "cells": [
  {
   "cell_type": "code",
   "execution_count": 1,
   "metadata": {},
   "outputs": [],
   "source": [
    "from semantix.types import Tool, Semantic, get_meaning"
   ]
  },
  {
   "cell_type": "code",
   "execution_count": 2,
   "metadata": {},
   "outputs": [
    {
     "data": {
      "text/plain": [
       "'example_tool (example) | returns \"semint_return\":list | usage eg. example(a=\"semstr_a\":list, b=int)'"
      ]
     },
     "execution_count": 2,
     "metadata": {},
     "output_type": "execute_result"
    }
   ],
   "source": [
    "# This should work for python 3.8 and up\n",
    "\n",
    "def example(a: Semantic[list, \"semstr_a\"], b: int) -> Semantic[list, \"semint_return\"]: ... # type: ignore\n",
    "example_tool = Tool(example, \"example_tool\")\n",
    "str(example_tool)"
   ]
  },
  {
   "cell_type": "code",
   "execution_count": 3,
   "metadata": {},
   "outputs": [
    {
     "data": {
      "text/plain": [
       "'example_tool (example) | returns \"semint_return\":list[tuple[str, str]] | usage eg. example(a=\"semstr_a\":list, b=int)'"
      ]
     },
     "execution_count": 3,
     "metadata": {},
     "output_type": "execute_result"
    }
   ],
   "source": [
    "# This should work for python 3.8 and up\n",
    "from typing import List, Tuple\n",
    "\n",
    "def example(a: Semantic[list, \"semstr_a\"], b: int) -> Semantic[List[Tuple[str, str]], \"semint_return\"]: ... # type: ignore\n",
    "example_tool = Tool(example, \"example_tool\")\n",
    "str(example_tool)"
   ]
  },
  {
   "cell_type": "code",
   "execution_count": 4,
   "metadata": {},
   "outputs": [
    {
     "ename": "TypeError",
     "evalue": "'type' object is not subscriptable",
     "output_type": "error",
     "traceback": [
      "\u001b[0;31m---------------------------------------------------------------------------\u001b[0m",
      "\u001b[0;31mTypeError\u001b[0m                                 Traceback (most recent call last)",
      "Cell \u001b[0;32mIn[4], line 3\u001b[0m\n\u001b[0;32m----> 3\u001b[0m \u001b[38;5;28;01mdef\u001b[39;00m \u001b[38;5;21mexample\u001b[39m(a: Semantic[\u001b[38;5;28mlist\u001b[39m[\u001b[38;5;28mstr\u001b[39m], \u001b[38;5;124m\"\u001b[39m\u001b[38;5;124msemstr_a\u001b[39m\u001b[38;5;124m\"\u001b[39m], b: \u001b[38;5;28mint\u001b[39m) \u001b[38;5;241m-\u001b[39m\u001b[38;5;241m>\u001b[39m Semantic[\u001b[38;5;28mlist\u001b[39m[\u001b[38;5;28mtuple\u001b[39m[\u001b[38;5;28mstr\u001b[39m, \u001b[38;5;28mstr\u001b[39m]], \u001b[38;5;124m\"\u001b[39m\u001b[38;5;124msemint_return\u001b[39m\u001b[38;5;124m\"\u001b[39m]: \u001b[38;5;241m.\u001b[39m\u001b[38;5;241m.\u001b[39m\u001b[38;5;241m.\u001b[39m\n",
      "\u001b[0;31mTypeError\u001b[0m: 'type' object is not subscriptable"
     ]
    }
   ],
   "source": [
    "# This only works for python 3.11 and up\n",
    "\n",
    "def example(a: Semantic[list[str], \"semstr_a\"], b: int) -> Semantic[list[tuple[str, str]], \"semint_return\"]: ... # type: ignore\n",
    "example_tool = Tool(example, \"example_tool\")\n",
    "str(example_tool)"
   ]
  },
  {
   "cell_type": "code",
   "execution_count": null,
   "metadata": {},
   "outputs": [
    {
     "data": {
      "text/plain": [
       "'example_tool (example) | returns \"semint_return\":list[str] | usage eg. example(a=\"semstr_a\":list[str], b=int)'"
      ]
     },
     "execution_count": 5,
     "metadata": {},
     "output_type": "execute_result"
    }
   ],
   "source": [
    "from semantix import tool\n",
    "\n",
    "@tool(\"example_tool\")\n",
    "def example(a: Semantic[List[str], \"semstr_a\"], b: int) -> Semantic[List[str], \"semint_return\"]: # type: ignore\n",
    "    return [f\"{x} {b}\" for x in a]\n",
    "\n",
    "str(example)"
   ]
  },
  {
   "cell_type": "code",
   "execution_count": 5,
   "metadata": {},
   "outputs": [],
   "source": [
    "example([\"a\", \"b\", \"c\"], 1)"
   ]
  },
  {
   "cell_type": "code",
   "execution_count": 6,
   "metadata": {},
   "outputs": [],
   "source": [
    "class SomeClass:\n",
    "    \"\"\"semstr_someclass\"\"\"\n",
    "    def __init__(self, a: Semantic[str, \"semstr_a\"], b: int) -> None:\n",
    "        self.a = a\n",
    "        self.b = b"
   ]
  },
  {
   "cell_type": "code",
   "execution_count": 7,
   "metadata": {},
   "outputs": [
    {
     "data": {
      "text/plain": [
       "type"
      ]
     },
     "execution_count": 7,
     "metadata": {},
     "output_type": "execute_result"
    }
   ],
   "source": [
    "globals()[\"SomeClass\"].__class__"
   ]
  },
  {
   "cell_type": "code",
   "execution_count": 8,
   "metadata": {},
   "outputs": [
    {
     "data": {
      "text/plain": [
       "True"
      ]
     },
     "execution_count": 8,
     "metadata": {},
     "output_type": "execute_result"
    }
   ],
   "source": [
    "from enum import Enum, EnumMeta\n",
    "\n",
    "class SomeEnum(Enum):\n",
    "    \"\"\"semstr_someenum\"\"\"\n",
    "    A = 1\n",
    "    B = 2\n",
    "\n",
    "issubclass(globals()[\"SomeEnum\"], Enum)"
   ]
  },
  {
   "cell_type": "code",
   "execution_count": 9,
   "metadata": {},
   "outputs": [
    {
     "data": {
      "text/plain": [
       "__main__.SomeSomeClass"
      ]
     },
     "execution_count": 9,
     "metadata": {},
     "output_type": "execute_result"
    }
   ],
   "source": [
    "class SomeSomeClass(SomeClass):\n",
    "    \"\"\"semstr_somesomeclass\"\"\"\n",
    "    def __init__(self, a: Semantic[str, \"semstr_a\"], b: int) -> None:\n",
    "        super().__init__(a, b)\n",
    "\n",
    "globals()[\"SomeSomeClass\"]"
   ]
  },
  {
   "cell_type": "code",
   "execution_count": 10,
   "metadata": {},
   "outputs": [],
   "source": [
    "class SemanticClass:\n",
    "    def init(self, **kwargs):\n",
    "        raise NotImplementedError\n",
    "    \n",
    "    def __object_repr__(self):\n",
    "        ...\n",
    "    \n",
    "    @classmethod\n",
    "    def __type_repr__(cls):\n",
    "        semstr = cls.__doc__\n",
    "        _name = cls.__name__\n",
    "        _type = \"class\"\n",
    "        return f\"{_type} {_name} {semstr}\""
   ]
  },
  {
   "cell_type": "code",
   "execution_count": 11,
   "metadata": {},
   "outputs": [],
   "source": [
    "class SomeSomeClass(SomeClass, SemanticClass):\n",
    "    \"\"\"semstr_somesomeclass\"\"\"\n",
    "    a: Semantic[str, \"semstr_a\"]\n",
    "    b: int"
   ]
  },
  {
   "cell_type": "code",
   "execution_count": 12,
   "metadata": {},
   "outputs": [],
   "source": [
    "x = SomeSomeClass(\"a\", 1)"
   ]
  },
  {
   "cell_type": "code",
   "execution_count": 13,
   "metadata": {},
   "outputs": [
    {
     "data": {
      "text/plain": [
       "'class SomeSomeClass semstr_somesomeclass'"
      ]
     },
     "execution_count": 13,
     "metadata": {},
     "output_type": "execute_result"
    }
   ],
   "source": [
    "x.__type_repr__()"
   ]
  },
  {
   "cell_type": "code",
   "execution_count": 14,
   "metadata": {},
   "outputs": [
    {
     "data": {
      "text/plain": [
       "'class SomeSomeClass semstr_somesomeclass'"
      ]
     },
     "execution_count": 14,
     "metadata": {},
     "output_type": "execute_result"
    }
   ],
   "source": [
    "SomeSomeClass.__type_repr__()"
   ]
  },
  {
   "cell_type": "code",
   "execution_count": 15,
   "metadata": {},
   "outputs": [],
   "source": [
    "y: Semantic[int, \"semint_y555\"] = 1"
   ]
  },
  {
   "cell_type": "code",
   "execution_count": 16,
   "metadata": {},
   "outputs": [
    {
     "data": {
      "text/plain": [
       "'semint_y555'"
      ]
     },
     "execution_count": 16,
     "metadata": {},
     "output_type": "execute_result"
    }
   ],
   "source": [
    "get_meaning(y)"
   ]
  },
  {
   "cell_type": "code",
   "execution_count": null,
   "metadata": {},
   "outputs": [],
   "source": []
  }
 ],
 "metadata": {
  "kernelspec": {
   "display_name": "semantix-3.8",
   "language": "python",
   "name": "python3"
  },
  "language_info": {
   "codemirror_mode": {
    "name": "ipython",
    "version": 3
   },
   "file_extension": ".py",
   "mimetype": "text/x-python",
   "name": "python",
   "nbconvert_exporter": "python",
   "pygments_lexer": "ipython3",
   "version": "3.8.19"
  }
 },
 "nbformat": 4,
 "nbformat_minor": 2
}
